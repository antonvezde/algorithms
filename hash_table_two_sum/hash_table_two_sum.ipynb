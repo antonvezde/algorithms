{
 "cells": [
  {
   "cell_type": "code",
   "execution_count": 10,
   "id": "e3aad13b",
   "metadata": {},
   "outputs": [
    {
     "name": "stdout",
     "output_type": "stream",
     "text": [
      "Pair: 6 and 3\n",
      "Pair: 4 and 5\n"
     ]
    }
   ],
   "source": [
    "def hashTable_two_sum(values_array, sum_value):\n",
    "    \n",
    "    hash_table = {}\n",
    "    pair = []\n",
    "    \n",
    "    for i in range(len(values_array)):\n",
    "        diff = sum_value - values_array[i]\n",
    "        if diff in hash_table:\n",
    "            print('Pair:', values_array[i], 'and', diff)\n",
    "        hash_table[values_array[i]] = values_array[i]\n",
    "\n",
    "values_array = [3, 2, 5, 6, 10, 1, 4]\n",
    "sum_value = 9\n",
    "\n",
    "hashTable_two_sum(values_array, sum_value)"
   ]
  }
 ],
 "metadata": {
  "kernelspec": {
   "display_name": "Python 3 (ipykernel)",
   "language": "python",
   "name": "python3"
  },
  "language_info": {
   "codemirror_mode": {
    "name": "ipython",
    "version": 3
   },
   "file_extension": ".py",
   "mimetype": "text/x-python",
   "name": "python",
   "nbconvert_exporter": "python",
   "pygments_lexer": "ipython3",
   "version": "3.9.9"
  },
  "toc": {
   "base_numbering": 1,
   "nav_menu": {},
   "number_sections": true,
   "sideBar": true,
   "skip_h1_title": false,
   "title_cell": "Table of Contents",
   "title_sidebar": "Contents",
   "toc_cell": false,
   "toc_position": {},
   "toc_section_display": true,
   "toc_window_display": false
  }
 },
 "nbformat": 4,
 "nbformat_minor": 5
}
