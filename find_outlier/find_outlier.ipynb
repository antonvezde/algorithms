{
 "cells": [
  {
   "cell_type": "code",
   "execution_count": 1,
   "id": "3212dbba",
   "metadata": {},
   "outputs": [],
   "source": [
    "def find_outlier(integers):\n",
    "    odd = 0\n",
    "    even = 0\n",
    "    for i in integers:\n",
    "        if i%2==0:\n",
    "            even+=1\n",
    "        else:\n",
    "            odd+=1\n",
    "    if odd>even:\n",
    "        return [number for number in integers if number%2==0][0]\n",
    "    else:\n",
    "        return [number for number in integers if number%2==1][0]"
   ]
  },
  {
   "cell_type": "code",
   "execution_count": 2,
   "id": "0aae0cd0",
   "metadata": {},
   "outputs": [
    {
     "data": {
      "text/plain": [
       "11"
      ]
     },
     "execution_count": 2,
     "metadata": {},
     "output_type": "execute_result"
    }
   ],
   "source": [
    "find_outlier([2, 4, 0, 100, 4, 11, 2602, 36])"
   ]
  },
  {
   "cell_type": "code",
   "execution_count": 3,
   "id": "6968834e",
   "metadata": {},
   "outputs": [
    {
     "data": {
      "text/plain": [
       "160"
      ]
     },
     "execution_count": 3,
     "metadata": {},
     "output_type": "execute_result"
    }
   ],
   "source": [
    "find_outlier([160, 3, 1719, 19, 11, 13, -21])"
   ]
  }
 ],
 "metadata": {
  "kernelspec": {
   "display_name": "Python 3 (ipykernel)",
   "language": "python",
   "name": "python3"
  },
  "language_info": {
   "codemirror_mode": {
    "name": "ipython",
    "version": 3
   },
   "file_extension": ".py",
   "mimetype": "text/x-python",
   "name": "python",
   "nbconvert_exporter": "python",
   "pygments_lexer": "ipython3",
   "version": "3.9.9"
  },
  "toc": {
   "base_numbering": 1,
   "nav_menu": {},
   "number_sections": true,
   "sideBar": true,
   "skip_h1_title": false,
   "title_cell": "Table of Contents",
   "title_sidebar": "Contents",
   "toc_cell": false,
   "toc_position": {},
   "toc_section_display": true,
   "toc_window_display": false
  }
 },
 "nbformat": 4,
 "nbformat_minor": 5
}
