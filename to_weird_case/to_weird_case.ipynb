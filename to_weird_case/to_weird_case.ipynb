{
 "cells": [
  {
   "cell_type": "code",
   "execution_count": 1,
   "id": "ff8fb407",
   "metadata": {},
   "outputs": [],
   "source": [
    "def to_weird_case(string):\n",
    "    empty = []\n",
    "    for word in string.split(' '):\n",
    "        s = ''\n",
    "        for i in range(len(word)):\n",
    "            if i % 2 == 0:\n",
    "                s += word[i].upper()\n",
    "            else:\n",
    "                s += word[i].lower()\n",
    "        empty.append(s)\n",
    "    return ' '.join(empty)"
   ]
  },
  {
   "cell_type": "code",
   "execution_count": 2,
   "id": "732c6494",
   "metadata": {},
   "outputs": [
    {
     "data": {
      "text/plain": [
       "'ThIs Is A TeSt'"
      ]
     },
     "execution_count": 2,
     "metadata": {},
     "output_type": "execute_result"
    }
   ],
   "source": [
    "to_weird_case('This is a test')"
   ]
  }
 ],
 "metadata": {
  "kernelspec": {
   "display_name": "Python 3 (ipykernel)",
   "language": "python",
   "name": "python3"
  },
  "language_info": {
   "codemirror_mode": {
    "name": "ipython",
    "version": 3
   },
   "file_extension": ".py",
   "mimetype": "text/x-python",
   "name": "python",
   "nbconvert_exporter": "python",
   "pygments_lexer": "ipython3",
   "version": "3.9.9"
  },
  "toc": {
   "base_numbering": 1,
   "nav_menu": {},
   "number_sections": true,
   "sideBar": true,
   "skip_h1_title": false,
   "title_cell": "Table of Contents",
   "title_sidebar": "Contents",
   "toc_cell": false,
   "toc_position": {},
   "toc_section_display": true,
   "toc_window_display": false
  }
 },
 "nbformat": 4,
 "nbformat_minor": 5
}
